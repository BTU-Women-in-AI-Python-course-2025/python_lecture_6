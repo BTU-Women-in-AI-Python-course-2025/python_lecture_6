{
 "cells": [
  {
   "cell_type": "code",
   "outputs": [
    {
     "name": "stdout",
     "output_type": "stream",
     "text": [
      "Buddy makes a sound.\n",
      "Buddy says woof!\n",
      "Buddy dog moves\n",
      "Buddy moves\n"
     ]
    }
   ],
   "source": [
    "class Animal:\n",
    "    def __init__(self, name, ):\n",
    "        self.name = name\n",
    "        \n",
    "    def move(self):\n",
    "        return f\"{self.name} moves\"\n",
    "\n",
    "    def speak(self):\n",
    "        return f\"{self.name} makes a sound.\"\n",
    "    \n",
    "class Dog(Animal):\n",
    "    def __init__(self, name, age):\n",
    "        super().__init__(name)\n",
    "        self.age = age\n",
    "    \n",
    "    def bark(self):\n",
    "        return f\"{self.name} says woof!\"\n",
    "    \n",
    "    def move(self):\n",
    "        return f\"{self.name} dog moves\"\n",
    "    \n",
    "my_dog = Dog(\"Buddy\", 3)\n",
    "print(my_dog.speak())\n",
    "print(my_dog.bark())\n",
    "print(my_dog.move())\n",
    "\n",
    "animal = Animal('Buddy')\n",
    "print(animal.move())"
   ],
   "metadata": {
    "collapsed": false,
    "ExecuteTime": {
     "end_time": "2025-08-20T15:47:51.296954Z",
     "start_time": "2025-08-20T15:47:51.288492Z"
    }
   },
   "id": "34d6100eeb1660c",
   "execution_count": 6
  },
  {
   "cell_type": "code",
   "outputs": [],
   "source": [
    "from abc import ABC, abstractmethod\n",
    "\n",
    "# Abstract class\n",
    "class Shape(ABC):\n",
    "    @abstractmethod\n",
    "    def area(self):\n",
    "        pass  # Abstract method (no implementation)\n",
    "\n",
    "    @abstractmethod\n",
    "    def perimeter(self):\n",
    "        pass  # Abstract method (no implementation)\n",
    "    \n",
    "    @abstractmethod\n",
    "    def abstract_class_name(self):\n",
    "        pass\n",
    "    "
   ],
   "metadata": {
    "collapsed": false,
    "ExecuteTime": {
     "end_time": "2025-08-20T15:56:29.763250Z",
     "start_time": "2025-08-20T15:56:29.758959Z"
    }
   },
   "id": "7a64240198551984",
   "execution_count": 15
  },
  {
   "cell_type": "code",
   "outputs": [
    {
     "name": "stdout",
     "output_type": "stream",
     "text": [
      "78.5\n",
      "31.400000000000002\n",
      "Circle\n"
     ]
    }
   ],
   "source": [
    "class Circle(Shape):\n",
    "    def __init__(self, radius):\n",
    "        self.radius = radius\n",
    "\n",
    "    def area(self):\n",
    "        return 3.14 * self.radius ** 2\n",
    "\n",
    "    def perimeter(self):\n",
    "        return 2 * 3.14 * self.radius\n",
    "    \n",
    "    def abstract_class_name(self):\n",
    "        return \"Circle\"\n",
    "    \n",
    "circle = Circle(5)\n",
    "print(circle.area())\n",
    "print(circle.perimeter())\n",
    "print(circle.abstract_class_name())"
   ],
   "metadata": {
    "collapsed": false,
    "ExecuteTime": {
     "end_time": "2025-08-20T15:57:00.445249Z",
     "start_time": "2025-08-20T15:57:00.439789Z"
    }
   },
   "id": "95a4c1e6e9fea679",
   "execution_count": 17
  },
  {
   "cell_type": "code",
   "outputs": [
    {
     "name": "stdout",
     "output_type": "stream",
     "text": [
      "49\n",
      "28\n",
      "Square\n"
     ]
    }
   ],
   "source": [
    "class Square(Shape):\n",
    "    def __init__(self, side):\n",
    "        self.side = side\n",
    "\n",
    "    def area(self):\n",
    "        return self.side ** 2\n",
    "\n",
    "    def perimeter(self):\n",
    "        return 4 * self.side\n",
    "    \n",
    "    def abstract_class_name(self):\n",
    "        return 'Square'\n",
    "    \n",
    "square = Square(7)\n",
    "print(square.area())\n",
    "print(square.perimeter())\n",
    "print(square.abstract_class_name())\n",
    "      "
   ],
   "metadata": {
    "collapsed": false,
    "ExecuteTime": {
     "end_time": "2025-08-20T15:58:47.170260Z",
     "start_time": "2025-08-20T15:58:47.158138Z"
    }
   },
   "id": "b3603fe242572462",
   "execution_count": 18
  },
  {
   "cell_type": "code",
   "outputs": [
    {
     "name": "stdout",
     "output_type": "stream",
     "text": [
      "Lesi is a dog says woof!\n",
      "Martin is a cat and says meow!\n",
      "Lesi is a dog says woof!\n",
      "Martin is a cat and says meow!\n",
      "Lesi is a dog says woof!\n",
      "Martin is a cat and says meow!\n"
     ]
    }
   ],
   "source": [
    "class Animal:\n",
    "    def __init__(self, name):\n",
    "        self.name = name \n",
    "        \n",
    "    def speak(self):\n",
    "        return \"Animal makes a sound.\"\n",
    "\n",
    "class Dog(Animal):\n",
    "    def speak(self):  # Override the speak method\n",
    "        return f\"{self.name} is a dog says woof!\"\n",
    "\n",
    "class Cat(Animal):\n",
    "    def speak(self):  # Override the speak method\n",
    "        return f\"{self.name} is a cat and says meow!\"\n",
    "    \n",
    "dog_1 = Dog('Lesi')\n",
    "dog_2 = Dog('Lesi')\n",
    "cat_1 = Cat('Martin')\n",
    "cat_2 = Cat('Martin')\n",
    "\n",
    "print(dog_1.speak())\n",
    "print(cat_1.speak())\n",
    "\n",
    "for animal in [dog_1, cat_1, dog_2, cat_2]:\n",
    "    print(animal.speak())\n"
   ],
   "metadata": {
    "collapsed": false,
    "ExecuteTime": {
     "end_time": "2025-08-20T16:15:44.706686Z",
     "start_time": "2025-08-20T16:15:44.698349Z"
    }
   },
   "id": "69d3b19579debbd1",
   "execution_count": 21
  },
  {
   "cell_type": "code",
   "outputs": [
    {
     "name": "stdout",
     "output_type": "stream",
     "text": [
      "5\n",
      "4\n",
      "2\n"
     ]
    }
   ],
   "source": [
    "print(len(\"Hello\"))        # Output: 5 (string)\n",
    "print(len([1, 2, 3, 4]))   # Output: 4 (list)\n",
    "print(len({\"a\": 1, \"b\": 2}))  # Output: 2 (dictionary)"
   ],
   "metadata": {
    "collapsed": false,
    "ExecuteTime": {
     "end_time": "2025-08-20T16:17:56.981925Z",
     "start_time": "2025-08-20T16:17:56.975176Z"
    }
   },
   "id": "919359e6eaceb398",
   "execution_count": 22
  },
  {
   "cell_type": "code",
   "outputs": [
    {
     "name": "stdout",
     "output_type": "stream",
     "text": [
      "mariam\n",
      "200\n",
      "1234\n",
      "giorgi\n",
      "500\n",
      "4321\n"
     ]
    }
   ],
   "source": [
    "class BankAccount:\n",
    "    def __init__(self, owner, balance):\n",
    "        self.owner = owner  # Public attribute\n",
    "        self._balance = balance  # Protected attribute\n",
    "        self.__pin = \"1234\"  # Private attribute\n",
    "        \n",
    "bank_1 = BankAccount('mariam', 200)\n",
    "\n",
    "print(bank_1.owner)\n",
    "print(bank_1._balance)\n",
    "print(bank_1._BankAccount__pin)\n",
    "\n",
    "bank_1.owner = 'giorgi'\n",
    "bank_1._balance = 500\n",
    "bank_1._BankAccount__pin = '4321'\n",
    "\n",
    "print(bank_1.owner)\n",
    "print(bank_1._balance)\n",
    "print(bank_1._BankAccount__pin)"
   ],
   "metadata": {
    "collapsed": false,
    "ExecuteTime": {
     "end_time": "2025-08-20T16:31:25.591982Z",
     "start_time": "2025-08-20T16:31:25.585117Z"
    }
   },
   "id": "e6ad26b30a2a8516",
   "execution_count": 25
  },
  {
   "cell_type": "code",
   "outputs": [
    {
     "name": "stdout",
     "output_type": "stream",
     "text": [
      "John Doe\n",
      "1000\n",
      "Deposited $500. New balance: $1500\n",
      "Withdrew $200. New balance: $1300\n",
      "===========================\n",
      "1300\n",
      "Current balance: $1300\n"
     ]
    }
   ],
   "source": [
    "class BankAccount:\n",
    "    def __init__(self, owner, balance):\n",
    "        self.owner = owner  # Public attribute\n",
    "        self._balance = balance  # Protected attribute\n",
    "        self.__pin = \"1234\"  # Private attribute\n",
    "\n",
    "    # Public method to deposit money\n",
    "    def deposit(self, amount):\n",
    "        if amount > 0:\n",
    "            self._balance += amount\n",
    "            return f\"Deposited ${amount}. New balance: ${self._balance}\"\n",
    "        return \"Invalid deposit amount.\"\n",
    "\n",
    "    # Public method to withdraw money\n",
    "    def withdraw(self, amount, pin):\n",
    "        if pin == self.__pin:  # Access private attribute\n",
    "            if 0 < amount <= self._balance:\n",
    "                self._balance -= amount\n",
    "                return f\"Withdrew ${amount}. New balance: ${self._balance}\"\n",
    "            return \"Insufficient funds or invalid amount.\"\n",
    "        return \"Incorrect PIN.\"\n",
    "\n",
    "    # Public method to check balance\n",
    "    def get_balance(self):\n",
    "        return f\"Current balance: ${self._balance}\"\n",
    "    \n",
    "# Create a BankAccount object\n",
    "account = BankAccount(\"John Doe\", 1000)\n",
    "\n",
    "# Access public attribute\n",
    "print(account.owner)  # Output: John Doe\n",
    "\n",
    "# Access protected attribute (not recommended)\n",
    "print(account._balance)  # Output: 1000\n",
    "\n",
    "# Access private attribute (will raise an error)\n",
    "# print(account.__pin)  # AttributeError: 'BankAccount' object has no attribute '__pin'\n",
    "\n",
    "# Use public methods to interact with the object\n",
    "print(account.deposit(500))  # Output: Deposited $500. New balance: $1500\n",
    "print(account.withdraw(200, \"1234\"))  # Output: Withdrew $200. New balance: $1300\n",
    "print(\"===========================\")\n",
    "print(account._balance)\n",
    "print(account.get_balance())  # Output: Current balance: $1300\n",
    "    "
   ],
   "metadata": {
    "collapsed": false,
    "ExecuteTime": {
     "end_time": "2025-08-20T16:45:23.895564Z",
     "start_time": "2025-08-20T16:45:23.883944Z"
    }
   },
   "id": "7028b932a4f8ff94",
   "execution_count": 28
  },
  {
   "cell_type": "code",
   "outputs": [
    {
     "name": "stdout",
     "output_type": "stream",
     "text": [
      "Alice\n",
      "25\n",
      "Bob\n",
      "30\n",
      "Name must be a string.\n",
      "Age must be a positive integer.\n",
      "Age must be a positive integer.\n",
      "yes it's person class object\n"
     ]
    }
   ],
   "source": [
    "class Person:\n",
    "    def __init__(self, name, age):\n",
    "        self.__name = name  # Private attribute\n",
    "        self.__age = age    # Private attribute\n",
    "\n",
    "    # Getter for name\n",
    "    def get_name(self):\n",
    "        return self.__name\n",
    "\n",
    "    # Setter for name\n",
    "    def set_name(self, name):\n",
    "        if isinstance(name, str):\n",
    "            self.__name = name\n",
    "        else:\n",
    "            print(\"Name must be a string.\")\n",
    "\n",
    "    # Getter for age\n",
    "    def get_age(self):\n",
    "        return self.__age\n",
    "\n",
    "    # Setter for age\n",
    "    def set_age(self, age):\n",
    "        if isinstance(age, int) and age > 0:\n",
    "            self.__age = age\n",
    "        else:\n",
    "            print(\"Age must be a positive integer.\")\n",
    "            \n",
    "# Create a Person object\n",
    "person = Person(\"Alice\", 25)\n",
    "\n",
    "# Use getters to access private attributes\n",
    "print(person.get_name())  # Output: Alice\n",
    "print(person.get_age())   # Output: 25\n",
    "# \n",
    "# Use setters to modify private attributes\n",
    "person.set_name(\"Bob\")\n",
    "person.set_age(30)\n",
    "# \n",
    "print(person.get_name())  # Output: Bob\n",
    "print(person.get_age())   # Output: 30\n",
    "# \n",
    "# # Invalid updates\n",
    "person.set_name(123)      # Output: Name must be a string.\n",
    "person.set_age(-5)        # Output: Age must be a positive integer.\n",
    "person.set_age(3.6)\n",
    "\n",
    "if isinstance(person, Person):\n",
    "    print(\"yes it's person class object\")"
   ],
   "metadata": {
    "collapsed": false,
    "ExecuteTime": {
     "end_time": "2025-08-20T16:53:16.774144Z",
     "start_time": "2025-08-20T16:53:16.766408Z"
    }
   },
   "id": "428743e097553e60",
   "execution_count": 34
  },
  {
   "cell_type": "code",
   "outputs": [
    {
     "name": "stdout",
     "output_type": "stream",
     "text": [
      "3.141592653589793\n",
      "5.0\n"
     ]
    }
   ],
   "source": [
    "import math\n",
    "\n",
    "print(math.pi)\n",
    "print(math.sqrt(25))"
   ],
   "metadata": {
    "collapsed": false,
    "ExecuteTime": {
     "end_time": "2025-08-20T17:01:50.517525Z",
     "start_time": "2025-08-20T17:01:50.511938Z"
    }
   },
   "id": "223a60d71f1ded97",
   "execution_count": 35
  },
  {
   "cell_type": "code",
   "outputs": [],
   "source": [],
   "metadata": {
    "collapsed": false
   },
   "id": "2b8280c1236b7df"
  }
 ],
 "metadata": {
  "kernelspec": {
   "display_name": "Python 3",
   "language": "python",
   "name": "python3"
  },
  "language_info": {
   "codemirror_mode": {
    "name": "ipython",
    "version": 2
   },
   "file_extension": ".py",
   "mimetype": "text/x-python",
   "name": "python",
   "nbconvert_exporter": "python",
   "pygments_lexer": "ipython2",
   "version": "2.7.6"
  }
 },
 "nbformat": 4,
 "nbformat_minor": 5
}
