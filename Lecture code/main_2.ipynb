{
 "cells": [
  {
   "cell_type": "code",
   "execution_count": 9,
   "id": "initial_id",
   "metadata": {
    "ExecuteTime": {
     "end_time": "2025-08-21T15:51:23.514195Z",
     "start_time": "2025-08-21T15:51:23.505085Z"
    },
    "collapsed": true
   },
   "outputs": [
    {
     "name": "stdout",
     "output_type": "stream",
     "text": [
      "Lesi\n",
      "Lesi makes a sound.\n",
      "Lesi is moving.\n",
      "================\n",
      "Lesi\n",
      "Lesi makes a sound.\n",
      "Lesi says woof!\n",
      "Lesi is a dig and it is moving.\n"
     ]
    }
   ],
   "source": [
    "class Animal:\n",
    "    def __init__(self, name, age):\n",
    "        self.name = name\n",
    "        self.age = age\n",
    "        \n",
    "    def move(self):\n",
    "        return f\"{self.name} is moving.\"\n",
    "\n",
    "    def speak(self):\n",
    "        return f\"{self.name} makes a sound.\"\n",
    "    \n",
    "class Dog(Animal):\n",
    "    def __init__(self, color, *arg, **kwarg):\n",
    "        super().__init__(*arg, **kwarg)\n",
    "        self.color = color\n",
    "        \n",
    "    def my_color_is(self):\n",
    "        return \"my color is \" + self.color\n",
    "        \n",
    "    def move(self):\n",
    "        return f\"{self.name} is a dig and it is moving.\"\n",
    "    \n",
    "    def bark(self):\n",
    "        return f\"{self.name} says woof!\"\n",
    "    \n",
    "animal_1 = Animal(\"Lesi\", 2)\n",
    "dog_1 = Dog(name=\"Lesi\", age=3, color=\"red\")\n",
    "\n",
    "print(animal_1.name)\n",
    "print(animal_1.speak())\n",
    "print(animal_1.move())\n",
    "print(\"================\")\n",
    "\n",
    "print(dog_1.name)\n",
    "print(dog_1.speak())\n",
    "print(dog_1.bark())\n",
    "print(dog_1.move())"
   ]
  },
  {
   "cell_type": "code",
   "execution_count": 13,
   "id": "2c2595b950ca58e4",
   "metadata": {
    "ExecuteTime": {
     "end_time": "2025-08-21T16:01:05.754410Z",
     "start_time": "2025-08-21T16:01:05.749789Z"
    },
    "collapsed": false
   },
   "outputs": [],
   "source": [
    "from abc import ABC, abstractmethod\n",
    "\n",
    "class Shape(ABC):\n",
    "    @abstractmethod\n",
    "    def area(self):\n",
    "        pass  # Abstract method (no implementation)\n",
    "\n",
    "    @abstractmethod\n",
    "    def perimeter(self):\n",
    "        pass  # Abstract method (no implementation)\n",
    "    \n",
    "class Circle(Shape):\n",
    "    def __init__(self, radius):\n",
    "        self.radius = radius\n",
    "\n",
    "    def area(self):\n",
    "        return 3.14 * self.radius ** 2\n",
    "    \n",
    "    def perimeter(self):\n",
    "        return 2 * 3.14 * self.radius\n",
    "    \n",
    "class Square(Shape):\n",
    "    def __init__(self, side):\n",
    "        self.side = side\n",
    "\n",
    "    def area(self):\n",
    "        return self.side ** 2\n",
    "\n",
    "    def perimeter(self):\n",
    "        return 4 * self.side"
   ]
  },
  {
   "cell_type": "code",
   "execution_count": 14,
   "id": "c9f031238b9a013e",
   "metadata": {
    "ExecuteTime": {
     "end_time": "2025-08-21T16:09:31.219994Z",
     "start_time": "2025-08-21T16:09:31.208978Z"
    },
    "collapsed": false
   },
   "outputs": [
    {
     "name": "stdout",
     "output_type": "stream",
     "text": [
      "Dog says woof!\n",
      "Cat says meow!\n"
     ]
    }
   ],
   "source": [
    "class Animal:\n",
    "    def __init__(self, name):\n",
    "        self.name = name \n",
    "        \n",
    "    def speak(self):\n",
    "        return \"Animal makes a sound.\"\n",
    "\n",
    "class Dog(Animal):\n",
    "    def speak(self):  # Override the speak method\n",
    "        return \"Dog says woof!\"\n",
    "\n",
    "class Cat(Animal):\n",
    "    def speak(self):  # Override the speak method\n",
    "        return \"Cat says meow!\"\n",
    "  \n",
    "dog_1 = Dog(\"lesi\")  \n",
    "dog_2 = Dog(\"lesi\") \n",
    "dog_3 = Dog(\"lesi\") \n",
    "cat_1 = Cat(\"Whiskers\")\n",
    "cat_2 = Cat(\"Whiskers\")\n",
    "cat_3 = Cat(\"Whiskers\")\n",
    "\n",
    "dog_1.name = \"Whiskers\"\n",
    "\n",
    "print(dog_1.dog_speak())\n",
    "print(cat_1.cat_speak())\n",
    "\n",
    "for animal in [dog_1, cat_1, dog_2, cat_2, cat_3]:\n",
    "    animal.speak()\n",
    "    \n"
   ]
  },
  {
   "cell_type": "code",
   "execution_count": 15,
   "id": "5ea73034bcb6e57",
   "metadata": {
    "ExecuteTime": {
     "end_time": "2025-08-21T16:14:02.259257Z",
     "start_time": "2025-08-21T16:14:02.251701Z"
    },
    "collapsed": false
   },
   "outputs": [
    {
     "name": "stdout",
     "output_type": "stream",
     "text": [
      "5\n",
      "4\n",
      "2\n"
     ]
    }
   ],
   "source": [
    "print(len(\"Hello\"))        \n",
    "print(len([1, 2, 3, 4]))  \n",
    "print(len({\"a\": 1, \"b\": 2}))"
   ]
  },
  {
   "cell_type": "code",
   "execution_count": 28,
   "id": "973f399bea513b50",
   "metadata": {
    "ExecuteTime": {
     "end_time": "2025-08-21T16:34:09.788537Z",
     "start_time": "2025-08-21T16:34:09.775497Z"
    },
    "collapsed": false
   },
   "outputs": [
    {
     "name": "stdout",
     "output_type": "stream",
     "text": [
      "John Doe\n",
      "1000\n",
      "====================\n",
      "Mariam Kipshidze\n",
      "2000\n",
      "4321\n"
     ]
    }
   ],
   "source": [
    "class BankAccount:\n",
    "    def __init__(self, owner, balance):\n",
    "        self.owner = owner  # Public attribute\n",
    "        self._balance = balance  # Protected attribute\n",
    "        self.__pin = \"1234\"  # Private attribute\n",
    "        \n",
    "bank_account = BankAccount(\"John Doe\", 1000)\n",
    "\n",
    "print(bank_account.owner)\n",
    "print(bank_account._balance)\n",
    "print(\"====================\")\n",
    "\n",
    "bank_account.owner = \"Mariam Kipshidze\"\n",
    "bank_account._balance = \"2000\"\n",
    "\n",
    "print(bank_account.owner)\n",
    "print(bank_account._balance)\n",
    "bank_account._BankAccount__pin = \"4321\"\n",
    "print(bank_account._BankAccount__pin)\n"
   ]
  },
  {
   "cell_type": "code",
   "execution_count": 27,
   "id": "a577c6ce9f2f7f13",
   "metadata": {
    "ExecuteTime": {
     "end_time": "2025-08-21T16:31:33.630211Z",
     "start_time": "2025-08-21T16:31:33.623550Z"
    },
    "collapsed": false
   },
   "outputs": [
    {
     "name": "stdout",
     "output_type": "stream",
     "text": [
      "Withdrew $200. New balance: $800\n",
      "Deposited $900. New balance: $1700\n",
      "Current balance: $1700\n"
     ]
    }
   ],
   "source": [
    "class BankAccount:\n",
    "    def __init__(self, owner, balance):\n",
    "        self.owner = owner  # Public attribute\n",
    "        self._balance = balance  # Protected attribute\n",
    "        self.__pin = \"1234\"  # Private attribute\n",
    "\n",
    "    # Public method to deposit money\n",
    "    def deposit(self, amount):\n",
    "        if amount > 0:\n",
    "            self._balance += amount\n",
    "            return f\"Deposited ${amount}. New balance: ${self._balance}\"\n",
    "        return \"Invalid deposit amount.\"\n",
    "\n",
    "    # Public method to withdraw money\n",
    "    def withdraw(self, amount, pin):\n",
    "        if pin == self.__pin:  # Access private attribute\n",
    "            if 0 < amount <= self._balance:\n",
    "                self._balance -= amount\n",
    "                return f\"Withdrew ${amount}. New balance: ${self._balance}\"\n",
    "            return \"Insufficient funds or invalid amount.\"\n",
    "        return \"Incorrect PIN.\"\n",
    "\n",
    "    # Public method to check balance\n",
    "    def get_balance(self):\n",
    "        return f\"Current balance: ${self._balance}\"\n",
    "    \n",
    "bank_account = BankAccount(\"John Doe\", 1000)\n",
    "print(bank_account.withdraw(200, \"1234\"))\n",
    "print(bank_account.deposit(900))\n",
    "print(bank_account.get_balance())"
   ]
  },
  {
   "cell_type": "code",
   "execution_count": null,
   "id": "7fb44523de8c573b",
   "metadata": {
    "collapsed": false
   },
   "outputs": [],
   "source": []
  }
 ],
 "metadata": {
  "kernelspec": {
   "display_name": "Python 3",
   "language": "python",
   "name": "python3"
  },
  "language_info": {
   "codemirror_mode": {
    "name": "ipython",
    "version": 2
   },
   "file_extension": ".py",
   "mimetype": "text/x-python",
   "name": "python",
   "nbconvert_exporter": "python",
   "pygments_lexer": "ipython2",
   "version": "2.7.6"
  }
 },
 "nbformat": 4,
 "nbformat_minor": 5
}
